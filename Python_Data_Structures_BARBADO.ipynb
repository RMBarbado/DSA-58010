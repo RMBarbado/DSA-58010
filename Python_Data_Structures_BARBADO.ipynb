{
  "nbformat": 4,
  "nbformat_minor": 0,
  "metadata": {
    "colab": {
      "provenance": [],
      "collapsed_sections": [],
      "authorship_tag": "ABX9TyMCVQpZJHzc3yqbIe2xLdcL",
      "include_colab_link": true
    },
    "kernelspec": {
      "name": "python3",
      "display_name": "Python 3"
    },
    "language_info": {
      "name": "python"
    }
  },
  "cells": [
    {
      "cell_type": "markdown",
      "metadata": {
        "id": "view-in-github",
        "colab_type": "text"
      },
      "source": [
        "<a href=\"https://colab.research.google.com/github/RMBarbado/DSA-58010/blob/main/Python_Data_Structures_BARBADO.ipynb\" target=\"_parent\"><img src=\"https://colab.research.google.com/assets/colab-badge.svg\" alt=\"Open In Colab\"/></a>"
      ]
    },
    {
      "cell_type": "markdown",
      "source": [
        "Example 1"
      ],
      "metadata": {
        "id": "Kjlu-ia_43-6"
      }
    },
    {
      "cell_type": "code",
      "execution_count": null,
      "metadata": {
        "colab": {
          "base_uri": "https://localhost:8080/"
        },
        "id": "zM8vwUtd42sq",
        "outputId": "59bdedeb-aa78-4d8d-a94d-fc6f8ceba0e0"
      },
      "outputs": [
        {
          "output_type": "stream",
          "name": "stdout",
          "text": [
            "i\n",
            "f\n"
          ]
        }
      ],
      "source": [
        "import array \n",
        "array.typecodes #get all of the typecodes\n",
        "A = array.array('i', [1, 2, 3, 4, 5, 6]) #intializing array a\n",
        "B = array.array('f', [1.5, 2.5, 3.5, 4.5, 5.5, 6.5])  #initializing array b\n",
        "print(A.typecode) #getting the typecode a\n",
        "print(B.typecode) #getting the typecode b"
      ]
    },
    {
      "cell_type": "markdown",
      "source": [
        "Example 2"
      ],
      "metadata": {
        "id": "pOxPYeQu8Eko"
      }
    },
    {
      "cell_type": "code",
      "source": [
        "import array as ar\n",
        "a = ar.array('f', [1, 2, 3, 4, 5, 6])\n",
        "print(a) "
      ],
      "metadata": {
        "colab": {
          "base_uri": "https://localhost:8080/"
        },
        "id": "1WxH4sFu8Etf",
        "outputId": "cb7fe229-cd9d-4d3a-d900-dcbf654964a4"
      },
      "execution_count": null,
      "outputs": [
        {
          "output_type": "stream",
          "name": "stdout",
          "text": [
            "array('f', [1.0, 2.0, 3.0, 4.0, 5.0, 6.0])\n"
          ]
        }
      ]
    },
    {
      "cell_type": "markdown",
      "source": [
        "Example 3"
      ],
      "metadata": {
        "id": "wQ9L9NfA_-ND"
      }
    },
    {
      "cell_type": "code",
      "source": [
        "from array import array\n",
        "a = array('i', [4, 5, 6, 7]) #initializing array\n",
        "b = array('i', [1, 2, 3])\n",
        "a.insert(1, 2)  #insert element: 2 to index 1\n",
        "print(a)\n",
        "a.insert(-1, 0) #insert element: 0 to index -1\n",
        "print(a)\n",
        "a.insert(6, 8)  #insert element: 8 at index 6 which is out of range\n",
        "print(a)        #append the last element of the array\n",
        "b[0] = 5\n",
        "b[1] = 4\n",
        "b[2] = 23\n",
        "print(b)"
      ],
      "metadata": {
        "colab": {
          "base_uri": "https://localhost:8080/"
        },
        "id": "RjhF_fXp_-V3",
        "outputId": "7edbe2c2-f77b-42dd-c471-532a7854b73f"
      },
      "execution_count": 24,
      "outputs": [
        {
          "output_type": "stream",
          "name": "stdout",
          "text": [
            "array('i', [4, 2, 5, 6, 7])\n",
            "array('i', [4, 2, 5, 6, 0, 7])\n",
            "array('i', [4, 2, 5, 6, 0, 7, 8])\n",
            "array('i', [5, 4, 23])\n"
          ]
        }
      ]
    },
    {
      "cell_type": "markdown",
      "source": [
        "Linked Lists"
      ],
      "metadata": {
        "id": "w4p6m47vFNm8"
      }
    },
    {
      "cell_type": "code",
      "source": [
        "class Node: #Node class\n",
        "  def __init__(self, data): #Function to initialize the node object\n",
        "    self.data = data  #Assign data\n",
        "    self.next = None  #Initialize next as null\n",
        " \n",
        "\n",
        "class LinkedList: #Linked List class\n",
        "  def __init__(self): #Function to initialize the Linked\n",
        "    self.head = None  #Intialize head as null\n",
        "\n",
        "  def printlist(self):\n",
        "    temp = self.head\n",
        "    while(temp != None):\n",
        "      print(temp.data)\n",
        "      temp = temp.next\n",
        "\n",
        "\n",
        "list = LinkedList()\n",
        "list.head = Node(1)\n",
        "second = Node(2)\n",
        "third = Node(3)\n",
        "fourth = Node(4)\n",
        "\n",
        "list.head.next = second\n",
        "second.next = third\n",
        "third.next = fourth\n",
        "\n",
        "list.printlist()"
      ],
      "metadata": {
        "colab": {
          "base_uri": "https://localhost:8080/"
        },
        "id": "_OwA2DqPFNul",
        "outputId": "4afb2a9e-b66a-406e-bf0b-e35a72afea93"
      },
      "execution_count": 36,
      "outputs": [
        {
          "output_type": "stream",
          "name": "stdout",
          "text": [
            "1\n",
            "2\n",
            "3\n",
            "4\n"
          ]
        }
      ]
    }
  ]
}