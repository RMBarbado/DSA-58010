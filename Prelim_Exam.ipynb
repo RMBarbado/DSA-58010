{
  "nbformat": 4,
  "nbformat_minor": 0,
  "metadata": {
    "colab": {
      "provenance": [],
      "collapsed_sections": [],
      "authorship_tag": "ABX9TyPt4oCj/4AeYSEtUyqC1ZOs",
      "include_colab_link": true
    },
    "kernelspec": {
      "name": "python3",
      "display_name": "Python 3"
    },
    "language_info": {
      "name": "python"
    }
  },
  "cells": [
    {
      "cell_type": "markdown",
      "metadata": {
        "id": "view-in-github",
        "colab_type": "text"
      },
      "source": [
        "<a href=\"https://colab.research.google.com/github/RMBarbado/DSA-58010/blob/main/Prelim_Exam.ipynb\" target=\"_parent\"><img src=\"https://colab.research.google.com/assets/colab-badge.svg\" alt=\"Open In Colab\"/></a>"
      ]
    },
    {
      "cell_type": "code",
      "execution_count": 12,
      "metadata": {
        "colab": {
          "base_uri": "https://localhost:8080/"
        },
        "id": "acNRlJf7Ry9S",
        "outputId": "98866503-d7e7-44c3-ae63-32ca3846b451"
      },
      "outputs": [
        {
          "output_type": "stream",
          "name": "stdout",
          "text": [
            "[1, 2, 3, 4, 5, 6, 7, 8, 9, 10]\n",
            "The count of even numbers from 1-10 is 5\n"
          ]
        }
      ],
      "source": [
        "A = [1, 2, 3, 4, 5, 6, 7, 8, 9, 10]\n",
        "print(A)\n",
        "Evcount = 0\n",
        "\n",
        "for even in A:\n",
        "  if even != 1:\n",
        "    if even % 2 == 0:\n",
        "      Evcount += 1\n",
        "\n",
        "print(\"The count of even numbers from 1-10 is\", Evcount)\n"
      ]
    }
  ]
}