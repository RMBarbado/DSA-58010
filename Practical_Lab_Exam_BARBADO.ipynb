{
  "nbformat": 4,
  "nbformat_minor": 0,
  "metadata": {
    "colab": {
      "name": "Practical Lab Exam_BARBADO.ipynb",
      "provenance": [],
      "collapsed_sections": [],
      "authorship_tag": "ABX9TyMTXvWXS8S6OMDBydhVxu4l",
      "include_colab_link": true
    },
    "kernelspec": {
      "name": "python3",
      "display_name": "Python 3"
    },
    "language_info": {
      "name": "python"
    }
  },
  "cells": [
    {
      "cell_type": "markdown",
      "metadata": {
        "id": "view-in-github",
        "colab_type": "text"
      },
      "source": [
        "<a href=\"https://colab.research.google.com/github/RMBarbado/DSA-58010/blob/main/Practical_Lab_Exam_BARBADO.ipynb\" target=\"_parent\"><img src=\"https://colab.research.google.com/assets/colab-badge.svg\" alt=\"Open In Colab\"/></a>"
      ]
    },
    {
      "cell_type": "code",
      "execution_count": 7,
      "metadata": {
        "colab": {
          "base_uri": "https://localhost:8080/"
        },
        "id": "Y_LSSAqPbtbi",
        "outputId": "28db5bad-6de2-41d5-e7cd-417573e66305"
      },
      "outputs": [
        {
          "output_type": "stream",
          "name": "stdout",
          "text": [
            "The test scores that are even: [26, 98, 62]\n",
            "The sum of all EVEN numbers: 186\n"
          ]
        }
      ],
      "source": [
        "import math\n",
        "\n",
        "TestScores = [26, 49, 98, 87, 62, 75]\n",
        "result_even = 0  #To initialize the results variable.\n",
        "\n",
        "eveno = [num for num in TestScores if num % 2 == 0]   #To determine all of the even numbers.\n",
        "for e in TestScores:  #To loop through each element of the list.\n",
        "  if e % 2 == 0:      #For even numbers.\n",
        "    result_even += e\n",
        "\n",
        "print(\"The test scores that are even:\", eveno)  #To display the even test score.\n",
        "print(\"The sum of all EVEN numbers:\",result_even) #To display the sum of all even numbers."
      ]
    }
  ]
}