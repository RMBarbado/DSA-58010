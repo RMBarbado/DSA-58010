{
  "nbformat": 4,
  "nbformat_minor": 0,
  "metadata": {
    "colab": {
      "name": "Practical Lab Exam_BARBADO.ipynb",
      "provenance": [],
      "collapsed_sections": [],
      "authorship_tag": "ABX9TyPTWYIUu02WElSAQA2i6s7/",
      "include_colab_link": true
    },
    "kernelspec": {
      "name": "python3",
      "display_name": "Python 3"
    },
    "language_info": {
      "name": "python"
    }
  },
  "cells": [
    {
      "cell_type": "markdown",
      "metadata": {
        "id": "view-in-github",
        "colab_type": "text"
      },
      "source": [
        "<a href=\"https://colab.research.google.com/github/RMBarbado/DSA-58010/blob/main/Practical_Lab_Exam_BARBADO.ipynb\" target=\"_parent\"><img src=\"https://colab.research.google.com/assets/colab-badge.svg\" alt=\"Open In Colab\"/></a>"
      ]
    },
    {
      "cell_type": "code",
      "execution_count": 1,
      "metadata": {
        "colab": {
          "base_uri": "https://localhost:8080/"
        },
        "id": "Y_LSSAqPbtbi",
        "outputId": "364a20b4-0afe-4c1b-eb90-a130df9c6979"
      },
      "outputs": [
        {
          "output_type": "stream",
          "name": "stdout",
          "text": [
            "186\n"
          ]
        }
      ],
      "source": [
        "import math\n",
        "\n",
        "TestScores = [26, 49, 98, 87, 62, 75]\n",
        "result_even = 0  #To initialize the results variable.\n",
        "\n",
        "for e in TestScores:  #To loop through each element of the list.\n",
        "  if not e % 2:      #For even numbers.\n",
        "    result_even += e\n",
        "\n",
        "print(result_even)"
      ]
    }
  ]
}