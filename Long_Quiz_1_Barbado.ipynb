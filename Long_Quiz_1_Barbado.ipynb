{
  "nbformat": 4,
  "nbformat_minor": 0,
  "metadata": {
    "colab": {
      "provenance": [],
      "collapsed_sections": [],
      "authorship_tag": "ABX9TyNQ+7XjCa3pKwfpNQUfmnyA",
      "include_colab_link": true
    },
    "kernelspec": {
      "name": "python3",
      "display_name": "Python 3"
    },
    "language_info": {
      "name": "python"
    }
  },
  "cells": [
    {
      "cell_type": "markdown",
      "metadata": {
        "id": "view-in-github",
        "colab_type": "text"
      },
      "source": [
        "<a href=\"https://colab.research.google.com/github/RMBarbado/DSA-58010/blob/main/Long_Quiz_1_Barbado.ipynb\" target=\"_parent\"><img src=\"https://colab.research.google.com/assets/colab-badge.svg\" alt=\"Open In Colab\"/></a>"
      ]
    },
    {
      "cell_type": "code",
      "execution_count": 27,
      "metadata": {
        "colab": {
          "base_uri": "https://localhost:8080/"
        },
        "id": "-FsZk3UwKvyI",
        "outputId": "20e57e58-9bdc-4751-bd4b-671d2c4e1e2e"
      },
      "outputs": [
        {
          "output_type": "stream",
          "name": "stdout",
          "text": [
            "['R', 'A', 'L', 'P', 'H', 'M', 'I', 'K', 'H', 'A', 'I', 'L', 'B', 'A', 'R', 'B', 'A', 'D', 'O']\n",
            "['O', 'D', 'A', 'B', 'R', 'A', 'B', 'L', 'I', 'A', 'H', 'K', 'I', 'M', 'H', 'P', 'L', 'A', 'R']\n"
          ]
        }
      ],
      "source": [
        "MyName = []\n",
        "MyName.append('R')\n",
        "MyName.append('A')\n",
        "MyName.append('L')\n",
        "MyName.append('P')\n",
        "MyName.append('H')\n",
        "MyName.append('M')\n",
        "MyName.append('I')\n",
        "MyName.append('K')\n",
        "MyName.append('H')\n",
        "MyName.append('A')\n",
        "MyName.append('I')\n",
        "MyName.append('L')\n",
        "MyName.append('B')\n",
        "MyName.append('A')\n",
        "MyName.append('R')\n",
        "MyName.append('B')\n",
        "MyName.append('A')\n",
        "MyName.append('D')\n",
        "MyName.append('O')\n",
        "print(MyName)\n",
        "MyName.reverse()\n",
        "print(MyName)"
      ]
    }
  ]
}