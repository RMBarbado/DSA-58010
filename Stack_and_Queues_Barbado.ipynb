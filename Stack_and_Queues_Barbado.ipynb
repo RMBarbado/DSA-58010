{
  "nbformat": 4,
  "nbformat_minor": 0,
  "metadata": {
    "colab": {
      "provenance": [],
      "collapsed_sections": [],
      "authorship_tag": "ABX9TyNc9fW635l3g2AepkIRjfKO",
      "include_colab_link": true
    },
    "kernelspec": {
      "name": "python3",
      "display_name": "Python 3"
    },
    "language_info": {
      "name": "python"
    }
  },
  "cells": [
    {
      "cell_type": "markdown",
      "metadata": {
        "id": "view-in-github",
        "colab_type": "text"
      },
      "source": [
        "<a href=\"https://colab.research.google.com/github/RMBarbado/DSA-58010/blob/main/Stack_and_Queues_Barbado.ipynb\" target=\"_parent\"><img src=\"https://colab.research.google.com/assets/colab-badge.svg\" alt=\"Open In Colab\"/></a>"
      ]
    },
    {
      "cell_type": "code",
      "execution_count": 22,
      "metadata": {
        "colab": {
          "base_uri": "https://localhost:8080/"
        },
        "id": "yq_pOihROU5z",
        "outputId": "6c054930-c6e3-4788-8eb1-3c3e1e9d660b"
      },
      "outputs": [
        {
          "output_type": "stream",
          "name": "stdout",
          "text": [
            "Pushed Element: 1\n",
            "Pushed Element: 2\n",
            "Pushed Element: 3\n",
            "Pushed Element: 4\n",
            "Pushed Element: 5\n",
            "The elements in the stack are:['1', '2', '3', '4', '5']\n",
            "The length of the stack: 5\n",
            "1\n",
            "2\n",
            "3\n",
            "The length of the stack without the popped elements: 2\n"
          ]
        }
      ],
      "source": [
        "# Stack implementation in python\n",
        "\n",
        "# Creating a stack\n",
        "def create_stack():\n",
        "    stack = []\n",
        "    return stack\n",
        "\n",
        "# Creating an empty stack\n",
        "def is_empty(stack):\n",
        "    return len(stack) == 0\n",
        "\n",
        "# Adding items into the stack\n",
        "def push(stack, item):\n",
        "    stack.append(item)\n",
        "    print(\"Pushed Element: \" + item)\n",
        "\n",
        "# Removing an element from the stack\n",
        "def pop(stack):\n",
        "    if (is_empty(stack)):\n",
        "        return \"The stack is empty\"\n",
        "    return stack.pop()\n",
        "\n",
        "stack = create_stack()\n",
        "push(stack, str(1))\n",
        "push(stack, str(2))\n",
        "push(stack, str(3))\n",
        "push(stack, str(4))\n",
        "push(stack, str(5))\n",
        "\n",
        "print(\"The elements in the stack are:\"+ str(stack))\n",
        "print(\"The length of the stack:\", len(stack))\n",
        "print(stack.pop(0))\n",
        "print(stack.pop(0))\n",
        "print(stack.pop(0))\n",
        "print(\"The length of the stack without the popped elements:\", len(stack))"
      ]
    },
    {
      "cell_type": "markdown",
      "source": [
        "Revised version"
      ],
      "metadata": {
        "id": "JjyYipVlXiyI"
      }
    },
    {
      "cell_type": "code",
      "source": [
        "# Stack implementation in python\n",
        "\n",
        "# Creating a stack\n",
        "def create_stack():\n",
        "    stack = []\n",
        "    return stack\n",
        "\n",
        "# Creating an empty stack\n",
        "def is_empty(stack):\n",
        "    return len(stack) == 0\n",
        "\n",
        "# Adding items into the stack\n",
        "def push(stack, item):\n",
        "    stack.append(item)\n",
        "    print(\"Pushed Element: \" + item)\n",
        "\n",
        "# Removing an element from the stack\n",
        "def pop(stack):\n",
        "    if (is_empty(stack)):\n",
        "        return \"The stack is empty\"\n",
        "    return stack.pop()\n",
        "\n",
        "pile = create_stack()\n",
        "push(pile, str(6))\n",
        "push(pile, str(7))\n",
        "push(pile, str(8))\n",
        "push(pile, str(9))\n",
        "push(pile, str(10))\n",
        "\n",
        "print(\"The elements in the stack are:\"+ str(pile))\n",
        "print(\"The length of the stack:\", len(pile))\n",
        "print(pile.pop(1))\n",
        "print(pile.pop(1))\n",
        "print(pile.pop(1))\n",
        "print(\"The length of the stack without the popped elements:\", len(pile))"
      ],
      "metadata": {
        "colab": {
          "base_uri": "https://localhost:8080/"
        },
        "id": "EA_Ew6QrXlnr",
        "outputId": "c7d793f7-fe53-4594-f680-33bc4bc0488d"
      },
      "execution_count": 31,
      "outputs": [
        {
          "output_type": "stream",
          "name": "stdout",
          "text": [
            "Pushed Element: 6\n",
            "Pushed Element: 7\n",
            "Pushed Element: 8\n",
            "Pushed Element: 9\n",
            "Pushed Element: 10\n",
            "The elements in the stack are:['6', '7', '8', '9', '10']\n",
            "The length of the stack: 5\n",
            "7\n",
            "8\n",
            "9\n",
            "The length of the stack without the popped elements: 2\n"
          ]
        }
      ]
    }
  ]
}