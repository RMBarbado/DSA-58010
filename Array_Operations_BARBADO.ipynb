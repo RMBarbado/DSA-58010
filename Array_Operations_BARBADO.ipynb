{
  "nbformat": 4,
  "nbformat_minor": 0,
  "metadata": {
    "colab": {
      "name": "Array Operations_BARBADO.ipynb",
      "provenance": [],
      "collapsed_sections": [],
      "authorship_tag": "ABX9TyOdg5UkZRlai11Cg0rCxNgJ",
      "include_colab_link": true
    },
    "kernelspec": {
      "name": "python3",
      "display_name": "Python 3"
    },
    "language_info": {
      "name": "python"
    }
  },
  "cells": [
    {
      "cell_type": "markdown",
      "metadata": {
        "id": "view-in-github",
        "colab_type": "text"
      },
      "source": [
        "<a href=\"https://colab.research.google.com/github/RMBarbado/DSA-58010/blob/main/Array_Operations_BARBADO.ipynb\" target=\"_parent\"><img src=\"https://colab.research.google.com/assets/colab-badge.svg\" alt=\"Open In Colab\"/></a>"
      ]
    },
    {
      "cell_type": "code",
      "source": [
        "#Create an array of number elements\n",
        "\n",
        "Num = [1, 2, 3]\n",
        "\n",
        "print(Num)"
      ],
      "metadata": {
        "colab": {
          "base_uri": "https://localhost:8080/"
        },
        "id": "nrCY3czL87zt",
        "outputId": "2e839ec6-5f30-4c25-e866-572c75bd5f2a"
      },
      "execution_count": null,
      "outputs": [
        {
          "output_type": "stream",
          "name": "stdout",
          "text": [
            "[1, 2, 3]\n"
          ]
        }
      ]
    },
    {
      "cell_type": "code",
      "source": [
        "#Create an array of number elements\n",
        "\n",
        "Num = [[1, 4],[2, 5],[3, 6]] #2x2 matrix\n",
        "\n",
        "print(Num)"
      ],
      "metadata": {
        "colab": {
          "base_uri": "https://localhost:8080/"
        },
        "id": "NHXeP4M08dKd",
        "outputId": "9bba1a64-8326-4de4-9bd1-1771d503b46e"
      },
      "execution_count": null,
      "outputs": [
        {
          "output_type": "stream",
          "name": "stdout",
          "text": [
            "[[1, 4], [2, 5], [3, 6]]\n"
          ]
        }
      ]
    },
    {
      "cell_type": "code",
      "source": [
        "#Create an array of number elements\n",
        "\n",
        "Num = [[1, 2, 3],[4, 5, 6]] #3x3 matrix\n",
        "\n",
        "print(Num)"
      ],
      "metadata": {
        "colab": {
          "base_uri": "https://localhost:8080/"
        },
        "id": "dnEjDt2f9Blm",
        "outputId": "f2b34d3d-4b31-409b-baec-cc3176e92583"
      },
      "execution_count": null,
      "outputs": [
        {
          "output_type": "stream",
          "name": "stdout",
          "text": [
            "[[1, 2, 3], [4, 5, 6]]\n"
          ]
        }
      ]
    },
    {
      "cell_type": "code",
      "source": [
        "import numpy as np\n",
        "number = np.array(([[1, 2],[3, 4]]))\n",
        "print(number)"
      ],
      "metadata": {
        "colab": {
          "base_uri": "https://localhost:8080/"
        },
        "id": "NyIp-Ued96HC",
        "outputId": "780594dc-4b5c-4fb3-91c9-c92541cd7793"
      },
      "execution_count": null,
      "outputs": [
        {
          "output_type": "stream",
          "name": "stdout",
          "text": [
            "[[1 2]\n",
            " [3 4]]\n"
          ]
        }
      ]
    },
    {
      "cell_type": "code",
      "source": [
        "animals = [\"dog\", \"cat\", \"fish\"]\n",
        "x = animals[0]\n",
        "x2 = animals[1]\n",
        "\n",
        "print(x)\n",
        "print(x2)"
      ],
      "metadata": {
        "colab": {
          "base_uri": "https://localhost:8080/"
        },
        "id": "oYtcwrEB_PTA",
        "outputId": "e67c7187-6a1b-4000-fd15-9888ba73ecd6"
      },
      "execution_count": null,
      "outputs": [
        {
          "output_type": "stream",
          "name": "stdout",
          "text": [
            "dog\n",
            "cat\n"
          ]
        }
      ]
    },
    {
      "cell_type": "code",
      "source": [
        "animals = [\"dog\", \"cat\", \"fish\"]\n",
        "x = animals[1]\n",
        "x2 = animals[2]\n",
        "\n",
        "print(x)\n",
        "print(x2)"
      ],
      "metadata": {
        "colab": {
          "base_uri": "https://localhost:8080/"
        },
        "id": "ktduSxbjgp20",
        "outputId": "7c57b43f-ff00-426b-d032-462173e26a47"
      },
      "execution_count": 1,
      "outputs": [
        {
          "output_type": "stream",
          "name": "stdout",
          "text": [
            "cat\n",
            "fish\n"
          ]
        }
      ]
    },
    {
      "cell_type": "code",
      "source": [
        "#Inserting Array elements\n",
        "\n",
        "animals = [\"dog\", \"cat\", \"fish\"]\n",
        "animals.append('monkey')\n",
        "print(animals)"
      ],
      "metadata": {
        "colab": {
          "base_uri": "https://localhost:8080/"
        },
        "id": "poPHemhsAQXP",
        "outputId": "6efa0745-6602-4a6e-e04f-4e67e5e8009f"
      },
      "execution_count": null,
      "outputs": [
        {
          "output_type": "stream",
          "name": "stdout",
          "text": [
            "['dog', 'cat', 'fish', 'monkey']\n"
          ]
        }
      ]
    },
    {
      "cell_type": "code",
      "source": [
        "#Modifying Array elements\n",
        "\n",
        "animals = [\"dog\", \"cat\", \"fish\"]\n",
        "animals[2] = \"monkey\"\n",
        "print(animals)"
      ],
      "metadata": {
        "colab": {
          "base_uri": "https://localhost:8080/"
        },
        "id": "9DA5ZpHCE1yD",
        "outputId": "23e3f583-e2fc-45da-a890-9a94cdbd1126"
      },
      "execution_count": null,
      "outputs": [
        {
          "output_type": "stream",
          "name": "stdout",
          "text": [
            "['dog', 'cat', 'monkey']\n"
          ]
        }
      ]
    },
    {
      "cell_type": "code",
      "source": [
        "#Removing Array elements\n",
        "\n",
        "animals = [\"dog\", \"cat\", \"fish\"]\n",
        "animals.pop(2)\n",
        "animals.pop(1)\n",
        "print(animals)"
      ],
      "metadata": {
        "colab": {
          "base_uri": "https://localhost:8080/"
        },
        "id": "D7LrEcObAvda",
        "outputId": "42e98272-6609-4ab2-fd6e-e5d274a6d23c"
      },
      "execution_count": null,
      "outputs": [
        {
          "output_type": "stream",
          "name": "stdout",
          "text": [
            "['dog']\n"
          ]
        }
      ]
    },
    {
      "cell_type": "code",
      "source": [
        "#Looping Array elements\n",
        "\n",
        "animals = [\"dog\", \"cat\", \"fish\"] #3x3 matrix\n",
        "for x in animals:\n",
        "  print(x)"
      ],
      "metadata": {
        "colab": {
          "base_uri": "https://localhost:8080/"
        },
        "id": "WmL9q6lWCkWy",
        "outputId": "cee9247f-736f-4b16-808f-1fd8c8454380"
      },
      "execution_count": null,
      "outputs": [
        {
          "output_type": "stream",
          "name": "stdout",
          "text": [
            "dog\n",
            "cat\n",
            "fish\n"
          ]
        }
      ]
    },
    {
      "cell_type": "code",
      "source": [
        "#Looping Array elements\n",
        "\n",
        "animals = [\"dog\", \"cat\", \"fish\"]\n",
        "for x in animals:\n",
        "  if x == 'cat':\n",
        "    break\n",
        "\n",
        "print(x)"
      ],
      "metadata": {
        "colab": {
          "base_uri": "https://localhost:8080/"
        },
        "id": "UnDj7FedC_S2",
        "outputId": "f381ca6b-d33a-471c-ec90-e16e35154ba1"
      },
      "execution_count": null,
      "outputs": [
        {
          "output_type": "stream",
          "name": "stdout",
          "text": [
            "cat\n"
          ]
        }
      ]
    },
    {
      "cell_type": "code",
      "source": [
        "#Looping Array elements\n",
        "\n",
        "animals = [\"dog\", \"cat\", \"fish\"]\n",
        "for x in animals:\n",
        "  print(x)\n",
        "  if x == 'cat':\n",
        "      break"
      ],
      "metadata": {
        "colab": {
          "base_uri": "https://localhost:8080/"
        },
        "id": "r7JRueXdEQhO",
        "outputId": "5ba21842-b661-4a3a-b0b3-3991765eb6ae"
      },
      "execution_count": null,
      "outputs": [
        {
          "output_type": "stream",
          "name": "stdout",
          "text": [
            "dog\n",
            "cat\n"
          ]
        }
      ]
    },
    {
      "cell_type": "code",
      "source": [
        "#Length of an Array\n",
        "\n",
        "animals = [\"dog\", \"cat\", \"fish\"]\n",
        "x = len(animals)\n",
        "print(x)\n",
        "\n"
      ],
      "metadata": {
        "colab": {
          "base_uri": "https://localhost:8080/"
        },
        "id": "Pf6DSOp0g-0m",
        "outputId": "e8e5a568-06f1-4fd9-838f-e01ea76cb722"
      },
      "execution_count": 4,
      "outputs": [
        {
          "output_type": "stream",
          "name": "stdout",
          "text": [
            "3\n"
          ]
        }
      ]
    }
  ]
}