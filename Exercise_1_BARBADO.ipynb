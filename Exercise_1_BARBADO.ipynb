{
  "nbformat": 4,
  "nbformat_minor": 0,
  "metadata": {
    "colab": {
      "name": "Exercise 1_BARBADO.ipynb",
      "provenance": [],
      "collapsed_sections": [],
      "authorship_tag": "ABX9TyP+CCeWdVRrc+sqYiq/PkwN",
      "include_colab_link": true
    },
    "kernelspec": {
      "name": "python3",
      "display_name": "Python 3"
    },
    "language_info": {
      "name": "python"
    }
  },
  "cells": [
    {
      "cell_type": "markdown",
      "metadata": {
        "id": "view-in-github",
        "colab_type": "text"
      },
      "source": [
        "<a href=\"https://colab.research.google.com/github/RMBarbado/DSA-58010/blob/main/Exercise_1_BARBADO.ipynb\" target=\"_parent\"><img src=\"https://colab.research.google.com/assets/colab-badge.svg\" alt=\"Open In Colab\"/></a>"
      ]
    },
    {
      "cell_type": "markdown",
      "source": [
        "Python program that computes the area of the circle with Radius and Diameter"
      ],
      "metadata": {
        "id": "K4U6tue8T6lb"
      }
    },
    {
      "cell_type": "markdown",
      "source": [
        "RADIUS"
      ],
      "metadata": {
        "id": "ftOqS2R-gRIY"
      }
    },
    {
      "cell_type": "code",
      "execution_count": null,
      "metadata": {
        "colab": {
          "base_uri": "https://localhost:8080/"
        },
        "id": "auKRQti1T1Pa",
        "outputId": "725e1fca-47d3-4bd9-a24b-80daf0331c99"
      },
      "outputs": [
        {
          "output_type": "stream",
          "name": "stdout",
          "text": [
            "Input the Radius of the Circle: 8\n",
            "Area of the Circle:  200.96\n"
          ]
        }
      ],
      "source": [
        "class Circle():\n",
        "  def __init__(self, r):\n",
        "      self.radius = r\n",
        "  def area(self):\n",
        "      return 3.14 * (self.radius ** 2)\n",
        "\n",
        "r = float(input (\"Input the Radius of the Circle: \"))\n",
        "obj = Circle(r)\n",
        "\n",
        "print(\"Area of the Circle: \", round(obj.area(),2))"
      ]
    },
    {
      "cell_type": "markdown",
      "source": [
        "DIAMETER"
      ],
      "metadata": {
        "id": "qq18zmRkgTHl"
      }
    },
    {
      "cell_type": "code",
      "source": [
        "class Circle():\n",
        "  def __init__(self, d):\n",
        "      self.diameter = d\n",
        "  def area(self):\n",
        "      return 3.14 * (self.diameter * self.diameter)/4\n",
        "\n",
        "d = float(input (\"Input the Diameter of the Circle: \"))\n",
        "obj = Circle(d)\n",
        "\n",
        "print(\"Area of the Circle: \", round(obj.area(),2))"
      ],
      "metadata": {
        "id": "DZrDpYlNgUPu",
        "outputId": "558418bb-6b5e-4906-9414-68b55fc5d6ea",
        "colab": {
          "base_uri": "https://localhost:8080/"
        }
      },
      "execution_count": 2,
      "outputs": [
        {
          "output_type": "stream",
          "name": "stdout",
          "text": [
            "Input the Diameter of the Circle: 8\n",
            "Area of the Circle:  50.24\n"
          ]
        }
      ]
    }
  ]
}