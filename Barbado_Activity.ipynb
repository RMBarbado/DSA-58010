{
  "nbformat": 4,
  "nbformat_minor": 0,
  "metadata": {
    "colab": {
      "provenance": [],
      "collapsed_sections": [],
      "authorship_tag": "ABX9TyMcIKsHE0PuiFhqP0nFEhEi",
      "include_colab_link": true
    },
    "kernelspec": {
      "name": "python3",
      "display_name": "Python 3"
    },
    "language_info": {
      "name": "python"
    }
  },
  "cells": [
    {
      "cell_type": "markdown",
      "metadata": {
        "id": "view-in-github",
        "colab_type": "text"
      },
      "source": [
        "<a href=\"https://colab.research.google.com/github/RMBarbado/DSA-58010/blob/main/Barbado_Activity.ipynb\" target=\"_parent\"><img src=\"https://colab.research.google.com/assets/colab-badge.svg\" alt=\"Open In Colab\"/></a>"
      ]
    },
    {
      "cell_type": "markdown",
      "source": [
        "1.Write a Python program to create an array of 10 integers and display the array items. Access individual elements through indexes and compute for the sum."
      ],
      "metadata": {
        "id": "uAT2SK_UT3pO"
      }
    },
    {
      "cell_type": "code",
      "source": [
        "numb_Arr = [1, 2, 3, 4, 5, 6, 7, 8, 9, 10] \n",
        "numb_Sum = 0\n",
        "for x in numb_Arr:\n",
        "  numb_Sum += x \n",
        "print(\"Numbers to be added together:\",  numb_Arr)\n",
        "print(\"Sum of all numbers:\", numb_Sum)"
      ],
      "metadata": {
        "colab": {
          "base_uri": "https://localhost:8080/"
        },
        "id": "fs0Jg64uRMth",
        "outputId": "5c12285d-874f-43ab-c357-2983870ccfbf"
      },
      "execution_count": 25,
      "outputs": [
        {
          "output_type": "stream",
          "name": "stdout",
          "text": [
            "Numbers to be added together: [1, 2, 3, 4, 5, 6, 7, 8, 9, 10]\n",
            "Sum of all numbers: 55\n"
          ]
        }
      ]
    },
    {
      "cell_type": "markdown",
      "source": [
        "2.Write a Python program to append a new item to the end of the array. Original array: numbers = [1, 2, 3, 4, 5, 6, 7, 8, 9, 10]"
      ],
      "metadata": {
        "id": "7b2A1TE8Ula0"
      }
    },
    {
      "cell_type": "code",
      "source": [
        "numb_Arr = [1, 2, 3, 4, 5, 6, 7, 8, 9, 10]\n",
        "numb_Arr.append(23)\n",
        "print(numb_Arr)"
      ],
      "metadata": {
        "colab": {
          "base_uri": "https://localhost:8080/"
        },
        "id": "OgC8mKSvUNIj",
        "outputId": "3531ca6e-40af-4619-8c47-2e34aefe4283"
      },
      "execution_count": 11,
      "outputs": [
        {
          "output_type": "stream",
          "name": "stdout",
          "text": [
            "[1, 2, 3, 4, 5, 6, 7, 8, 9, 10, 23]\n"
          ]
        }
      ]
    },
    {
      "cell_type": "markdown",
      "source": [
        "3.Write a Python program to insert a new item before the second element in an existing array. Original array: numbers = [1, 2, 3, 4, 5, 6, 7, 8, 9, 10]"
      ],
      "metadata": {
        "id": "6di6ZgsCVEXW"
      }
    },
    {
      "cell_type": "code",
      "source": [
        "numb_Ins = [1, 2, 3, 4, 5, 6, 7, 8, 9, 10]\n",
        "numb_Ins.insert(1, 23)\n",
        "print(numb_Ins)"
      ],
      "metadata": {
        "colab": {
          "base_uri": "https://localhost:8080/"
        },
        "id": "78AbwZ6qVFia",
        "outputId": "01fea8d6-b128-4e26-d6c7-9bb83655b553"
      },
      "execution_count": 26,
      "outputs": [
        {
          "output_type": "stream",
          "name": "stdout",
          "text": [
            "[1, 23, 2, 3, 4, 5, 6, 7, 8, 9, 10]\n"
          ]
        }
      ]
    },
    {
      "cell_type": "markdown",
      "source": [
        "4.Write a Python program to reverse the order of the items in the array.Original array: numbers = [5, 4, 3, 2, 1]"
      ],
      "metadata": {
        "id": "qmPWe3e1VFrJ"
      }
    },
    {
      "cell_type": "code",
      "source": [
        "numb_Rev = [5, 4, 3, 2, 1]\n",
        "numb_Rev.reverse()\n",
        "print(numb_Rev)"
      ],
      "metadata": {
        "colab": {
          "base_uri": "https://localhost:8080/"
        },
        "id": "G6lW9-CGVJBA",
        "outputId": "c6eba803-0b58-41fc-b6ea-c21d67c1db85"
      },
      "execution_count": 17,
      "outputs": [
        {
          "output_type": "stream",
          "name": "stdout",
          "text": [
            "[1, 2, 3, 4, 5]\n"
          ]
        }
      ]
    },
    {
      "cell_type": "markdown",
      "source": [
        "5.Write a Python program to get the length of the array. Original array: numbers = [5, 4, 3, 2, 1]"
      ],
      "metadata": {
        "id": "dV7cH-AzVJYR"
      }
    },
    {
      "cell_type": "code",
      "source": [
        "numb_Len = [5, 4, 3, 2, 1]\n",
        "length = len(numb_Len)\n",
        "print(length)"
      ],
      "metadata": {
        "colab": {
          "base_uri": "https://localhost:8080/"
        },
        "id": "jAlhzkE1VJmW",
        "outputId": "c4d2321c-500b-4d9f-86e2-2a7b3f2f4023"
      },
      "execution_count": 24,
      "outputs": [
        {
          "output_type": "stream",
          "name": "stdout",
          "text": [
            "5\n"
          ]
        }
      ]
    }
  ]
}