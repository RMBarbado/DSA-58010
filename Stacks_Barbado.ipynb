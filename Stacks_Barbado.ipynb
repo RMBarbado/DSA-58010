{
  "nbformat": 4,
  "nbformat_minor": 0,
  "metadata": {
    "colab": {
      "provenance": [],
      "collapsed_sections": [],
      "authorship_tag": "ABX9TyM99v4Z+sulRqOHSPp3aFt0",
      "include_colab_link": true
    },
    "kernelspec": {
      "name": "python3",
      "display_name": "Python 3"
    },
    "language_info": {
      "name": "python"
    }
  },
  "cells": [
    {
      "cell_type": "markdown",
      "metadata": {
        "id": "view-in-github",
        "colab_type": "text"
      },
      "source": [
        "<a href=\"https://colab.research.google.com/github/RMBarbado/DSA-58010/blob/main/Stacks_Barbado.ipynb\" target=\"_parent\"><img src=\"https://colab.research.google.com/assets/colab-badge.svg\" alt=\"Open In Colab\"/></a>"
      ]
    },
    {
      "cell_type": "code",
      "execution_count": null,
      "metadata": {
        "colab": {
          "base_uri": "https://localhost:8080/"
        },
        "id": "Ew377c1vFBdA",
        "outputId": "3306b633-6884-4e85-ec60-96d341537d7b"
      },
      "outputs": [
        {
          "output_type": "stream",
          "name": "stdout",
          "text": [
            "Thu\n",
            "Wed\n",
            "Tue\n",
            "Mon\n"
          ]
        }
      ],
      "source": [
        "class Stack:\n",
        "  def __init__(self):\n",
        "    self.stack = []\n",
        "\n",
        "  def add(self, dataval):\n",
        "# Use list append method to add element\n",
        "    if dataval not in self.stack:\n",
        "        self.stack.append(dataval)\n",
        "        return True\n",
        "    else:\n",
        "        return False\n",
        "\n",
        "# Use list pop method to remove element\n",
        "  def remove(self):\n",
        "    if len(self.stack) <= 0:\n",
        "        return (\"No element in the Stack\")\n",
        "    else:\n",
        "        return self.stack.pop()\n",
        "\n",
        "AStack = Stack()\n",
        "AStack.add(\"Mon\")\n",
        "AStack.add(\"Tue\")\n",
        "AStack.add(\"Wed\")\n",
        "AStack.add(\"Thu\")\n",
        "print(AStack.remove())\n",
        "print(AStack.remove())\n",
        "print(AStack.remove())\n",
        "print(AStack.remove())\n"
      ]
    },
    {
      "cell_type": "code",
      "source": [
        "class Stack:\n",
        "  def __init__(self):\n",
        "    self.stack = []\n",
        "\n",
        "  def add(self, dataval):\n",
        "# Use list append method to add element\n",
        "    if dataval not in self.stack:\n",
        "        self.stack.append(dataval)\n",
        "        return True\n",
        "    else:\n",
        "        return False\n",
        "\n",
        "# Use list pop method to remove element\n",
        "  def remove(self):\n",
        "    if len(self.stack) <= 0:\n",
        "        return (\"No element in the Stack\")\n",
        "    else:\n",
        "        return self.stack.pop()\n",
        "\n",
        "AStack = []\n",
        "AStack.append('Mon')\n",
        "AStack.append('Tue')\n",
        "AStack.append('Wed')\n",
        "AStack.append('Thu')\n",
        "print(\"The list of elements in the stack are:\")\n",
        "print(AStack)\n",
        "#to remove each element/pop()\n",
        "print(AStack.pop())\n",
        "print(AStack.pop())\n",
        "print(\"\\nAfter popping Thursday, the new elements in the stack are:\")\n",
        "print(AStack)"
      ],
      "metadata": {
        "colab": {
          "base_uri": "https://localhost:8080/"
        },
        "id": "OOZVWBOSJnWJ",
        "outputId": "653435df-7d0a-49e2-e113-15f0b03bd477"
      },
      "execution_count": null,
      "outputs": [
        {
          "output_type": "stream",
          "name": "stdout",
          "text": [
            "The list of elements in the stack are:\n",
            "['Mon', 'Tue', 'Wed', 'Thu']\n",
            "Thu\n",
            "Wed\n",
            "\n",
            "After popping Thursday, the new elements in the stack are:\n",
            "['Mon', 'Tue']\n"
          ]
        }
      ]
    },
    {
      "cell_type": "code",
      "source": [
        "#Python program to demo stack using Linked List\n",
        "\n",
        "class Node:\n",
        "  def __init__(self,data):\n",
        "    self.data = data\n",
        "    self.next = None   #initialize as null\n",
        "  \n",
        "class LinkedList:\n",
        "  def __init__(self):\n",
        "    self.head = None  #initialize head as null\n",
        "\n",
        "  def push(self, newElement):\n",
        "    newNode = Node(newElement)\n",
        "    if(self.head == None):\n",
        "      self.head = newNode\n",
        "      return\n",
        "    else:\n",
        "      temp = self.head\n",
        "      while(temp.next != None):\n",
        "        temp = temp.next\n",
        "      temp.next = newNode\n",
        "\n",
        "  def pop(self):\n",
        "    if(self.head != None):\n",
        "      if(self.head.next == None):\n",
        "        self.head = None\n",
        "      else:\n",
        "        temp = self.head\n",
        "        while(temp.next.next != None):\n",
        "          temp = temp.next\n",
        "        lastNode = temp.next\n",
        "        temp.next = None\n",
        "        lastNode = None\n",
        "\n",
        "  def printList(self):\n",
        "    temp = self.head\n",
        "    while(temp):\n",
        "      print(temp.data)\n",
        "      temp = temp.next\n",
        "\n",
        "llist = LinkedList()\n",
        "\n",
        "llist.push(\"Mon\")\n",
        "llist.push(\"Tue\")\n",
        "llist.push(\"Wed\")\n",
        "llist.push(\"Thu\")\n",
        "\n",
        "llist.pop()\n",
        "llist.printList()"
      ],
      "metadata": {
        "colab": {
          "base_uri": "https://localhost:8080/"
        },
        "id": "TyK2hr1xTORm",
        "outputId": "e508b795-74cd-462b-a159-f0cc0928f359"
      },
      "execution_count": 16,
      "outputs": [
        {
          "output_type": "stream",
          "name": "stdout",
          "text": [
            "Mon\n",
            "Tue\n",
            "Wed\n"
          ]
        }
      ]
    }
  ]
}